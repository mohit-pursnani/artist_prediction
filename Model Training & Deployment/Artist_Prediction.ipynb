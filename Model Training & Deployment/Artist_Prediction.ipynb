{
  "nbformat": 4,
  "nbformat_minor": 0,
  "metadata": {
    "colab": {
      "provenance": []
    },
    "kernelspec": {
      "name": "python3",
      "display_name": "Python 3"
    },
    "language_info": {
      "name": "python"
    },
    "gpuClass": "standard"
  },
  "cells": [
    {
      "cell_type": "code",
      "source": [
        "from google.colab import drive\n",
        "drive.mount('/content/drive', force_remount=True)"
      ],
      "metadata": {
        "id": "pUFr2xRyNFCt",
        "colab": {
          "base_uri": "https://localhost:8080/"
        },
        "outputId": "0176412b-7fbf-4717-d79e-ba319cac8491"
      },
      "execution_count": null,
      "outputs": [
        {
          "output_type": "stream",
          "name": "stdout",
          "text": [
            "Mounted at /content/drive\n"
          ]
        }
      ]
    },
    {
      "cell_type": "code",
      "source": [
        "import pandas as pd\n",
        "import numpy as np\n",
        "import matplotlib.pyplot as plt\n",
        "import json\n",
        "import os\n",
        "from tqdm import tqdm, tqdm_notebook\n",
        "import random\n",
        "\n",
        "import tensorflow as tf\n",
        "\n",
        "from tensorflow.keras.models import Sequential, Model\n",
        "from tensorflow.keras.layers import *\n",
        "from tensorflow.keras.optimizers import * \n",
        "from tensorflow.keras.applications import *\n",
        "from tensorflow.keras.callbacks import *\n",
        "from tensorflow.keras.initializers import *\n",
        "from tensorflow.keras.preprocessing.image import ImageDataGenerator\n",
        "\n",
        "from numpy.random import seed\n",
        "seed(1) \n",
        "\n",
        "tf.random.set_seed(1)"
      ],
      "metadata": {
        "id": "ppTjsk97NGH7"
      },
      "execution_count": null,
      "outputs": []
    },
    {
      "cell_type": "code",
      "source": [
        "artists = pd.read_csv('drive/MyDrive/ArtistPrediction/archive2/artists.csv')\n",
        "artists = artists.sort_values(by=['paintings'], ascending=False)\n",
        "\n",
        "artists_top = artists[artists['paintings'] >= 200].reset_index()\n",
        "artists_top = artists_top[['name', 'paintings']]\n",
        "\n",
        "artists_top['class_weight'] = artists_top.paintings.sum() / (artists_top.shape[0] * artists_top.paintings)\n",
        "\n",
        "artists_top['class_weight'] = artists_top.paintings.sum() / (artists_top.shape[0] * artists_top.paintings)\n",
        "\n",
        "class_weights = artists_top['class_weight'].to_dict()\n",
        "\n",
        "updated_name = \"Albrecht_Dürer\".replace(\"_\", \" \")\n",
        "artists_top.iloc[4, 0] = updated_name \n",
        "\n",
        "images_dir = 'drive/MyDrive/ArtistPrediction/archive2/images/images'\n",
        "artists_dirs = os.listdir(images_dir)\n",
        "artists_top_name = artists_top['name'].str.replace(' ', '_').values\n",
        "\n"
      ],
      "metadata": {
        "id": "qrGWTQm_qO05"
      },
      "execution_count": null,
      "outputs": []
    },
    {
      "cell_type": "code",
      "source": [
        "batch_size = 16\n",
        "train_input_shape = (224, 224, 3)\n",
        "n_classes = artists_top.shape[0]\n",
        "\n",
        "train_datagen = ImageDataGenerator(validation_split=0.2,\n",
        "                                   rescale=1./255.,\n",
        "                                   rotation_range=45,\n",
        "                                   width_shift_range=0.5,\n",
        "                                   height_shift_range=0.5,\n",
        "                                   shear_range=5,\n",
        "                                   zoom_range=0.7,\n",
        "                                   horizontal_flip=True,\n",
        "                                   vertical_flip=True,\n",
        "                                  )\n",
        "\n",
        "train_generator = train_datagen.flow_from_directory(directory=images_dir,\n",
        "                                                    class_mode='categorical',\n",
        "                                                    target_size=train_input_shape[0:2],\n",
        "                                                    batch_size=batch_size,\n",
        "                                                    subset=\"training\",\n",
        "                                                    shuffle=True,\n",
        "                                                    classes=artists_top_name.tolist()\n",
        "                                                   )\n",
        "\n",
        "valid_generator = train_datagen.flow_from_directory(directory=images_dir,\n",
        "                                                    class_mode='categorical',\n",
        "                                                    target_size=train_input_shape[0:2],\n",
        "                                                    batch_size=batch_size,\n",
        "                                                    subset=\"validation\", \n",
        "                                                    shuffle=True,\n",
        "                                                    classes=artists_top_name.tolist()\n",
        "                                                   )\n",
        "\n",
        "STEP_SIZE_TRAIN = train_generator.n//train_generator.batch_size\n",
        "STEP_SIZE_VALID = valid_generator.n//valid_generator.batch_size\n",
        "print(\"Total number of batches =\", STEP_SIZE_TRAIN, \"and\", STEP_SIZE_VALID)\n"
      ],
      "metadata": {
        "id": "j_pbxHQpqaOU",
        "colab": {
          "base_uri": "https://localhost:8080/"
        },
        "outputId": "4c5fe7ad-8070-4b66-ccce-758b799bb74b"
      },
      "execution_count": null,
      "outputs": [
        {
          "output_type": "stream",
          "name": "stdout",
          "text": [
            "Found 2069 images belonging to 7 classes.\n",
            "Found 513 images belonging to 7 classes.\n",
            "Total number of batches = 129 and 32\n"
          ]
        }
      ]
    },
    {
      "cell_type": "code",
      "source": [
        "labels = train_generator.class_indices\n",
        "labels = dict((v,k) for k,v in labels.items())\n",
        "\n",
        "labels"
      ],
      "metadata": {
        "colab": {
          "base_uri": "https://localhost:8080/"
        },
        "id": "qE0aP1NfhnRV",
        "outputId": "f518ba09-22ec-47b8-a069-36edb4e405e5"
      },
      "execution_count": null,
      "outputs": [
        {
          "output_type": "execute_result",
          "data": {
            "text/plain": [
              "{0: 'Edgar_Degas',\n",
              " 1: 'Pablo_Picasso',\n",
              " 2: 'Albrecht_Dürer',\n",
              " 3: 'Francisco_Goya',\n",
              " 4: 'Albrecht_Dürer',\n",
              " 5: 'Titian',\n",
              " 6: 'Marc_Chagall'}"
            ]
          },
          "metadata": {},
          "execution_count": 9
        }
      ]
    },
    {
      "cell_type": "code",
      "source": [
        "train_input_shape = (224, 224, 3)\n",
        "base_model = ResNet50(weights='imagenet', include_top=False, input_shape=train_input_shape)\n",
        "\n",
        "for layer in base_model.layers:\n",
        "    layer.trainable = True"
      ],
      "metadata": {
        "id": "kt6jDkorqplv",
        "colab": {
          "base_uri": "https://localhost:8080/"
        },
        "outputId": "21c82b15-ebf4-49a4-806e-07783ae7dd35"
      },
      "execution_count": null,
      "outputs": [
        {
          "output_type": "stream",
          "name": "stdout",
          "text": [
            "Downloading data from https://storage.googleapis.com/tensorflow/keras-applications/resnet/resnet50_weights_tf_dim_ordering_tf_kernels_notop.h5\n",
            "94765736/94765736 [==============================] - 5s 0us/step\n"
          ]
        }
      ]
    },
    {
      "cell_type": "code",
      "source": [
        "n_classes = artists_top.shape[0]\n",
        "\n",
        "X = base_model.output\n",
        "X = Flatten()(X)\n",
        "\n",
        "X = Dense(512, kernel_initializer='he_uniform')(X)\n",
        "X = Dropout(0.5)(X)\n",
        "X = BatchNormalization()(X)\n",
        "X = Activation('relu')(X) \n",
        "\n",
        "X = Dense(16, kernel_initializer='he_uniform')(X)\n",
        "X = Dropout(0.5)(X)\n",
        "X = BatchNormalization()(X)\n",
        "X = Activation('relu')(X)\n",
        "\n",
        "output = Dense(n_classes, activation='softmax')(X)\n",
        "\n",
        "model = Model(inputs=base_model.input, outputs=output)"
      ],
      "metadata": {
        "id": "GjvhceyGrRlX"
      },
      "execution_count": null,
      "outputs": []
    },
    {
      "cell_type": "code",
      "source": [
        "optimizer = Adam(lr=0.0001) \n",
        "model.compile(loss='categorical_crossentropy',\n",
        "              optimizer=optimizer, \n",
        "              metrics=['accuracy'])"
      ],
      "metadata": {
        "id": "j3rzmLcLrUFh",
        "colab": {
          "base_uri": "https://localhost:8080/"
        },
        "outputId": "26ff2cec-035b-4534-b140-d6a28e878d67"
      },
      "execution_count": null,
      "outputs": [
        {
          "output_type": "stream",
          "name": "stderr",
          "text": [
            "/usr/local/lib/python3.8/dist-packages/keras/optimizers/optimizer_v2/adam.py:110: UserWarning: The `lr` argument is deprecated, use `learning_rate` instead.\n",
            "  super(Adam, self).__init__(name, **kwargs)\n"
          ]
        }
      ]
    },
    {
      "cell_type": "code",
      "source": [
        "n_epoch = 10 #n_epoch :number of times training vect to update weight/ one complete iteration. \n",
        "\n",
        "early_stop = EarlyStopping(monitor='val_loss', patience=20, verbose=1, \n",
        "                           mode='auto', restore_best_weights=True)\n",
        "\n",
        "reduce_lr = ReduceLROnPlateau(monitor='val_loss', factor=0.1, patience=5,\n",
        "                              verbose=1, mode='auto')"
      ],
      "metadata": {
        "id": "agt0awcCrW13"
      },
      "execution_count": null,
      "outputs": []
    },
    {
      "cell_type": "code",
      "source": [
        "history1 = model.fit(train_generator, steps_per_epoch=STEP_SIZE_TRAIN,\n",
        "                              validation_data=valid_generator, validation_steps=STEP_SIZE_VALID,\n",
        "                              epochs=n_epoch,\n",
        "                              shuffle=True,\n",
        "                              verbose=1,\n",
        "                              callbacks=[reduce_lr],\n",
        "                              use_multiprocessing=False,\n",
        "                              workers=16,\n",
        "                              class_weight=class_weights\n",
        "                             )\n"
      ],
      "metadata": {
        "id": "1xLffS4ykRpu",
        "colab": {
          "base_uri": "https://localhost:8080/"
        },
        "outputId": "7ca0e899-93fd-4c3d-e051-6d28ec49f02f"
      },
      "execution_count": null,
      "outputs": [
        {
          "output_type": "stream",
          "name": "stdout",
          "text": [
            "Epoch 1/10\n",
            "129/129 [==============================] - 177s 1s/step - loss: 1.2868 - accuracy: 0.5519 - val_loss: 2.2225 - val_accuracy: 0.1523 - lr: 1.0000e-04\n",
            "Epoch 2/10\n",
            "129/129 [==============================] - 66s 481ms/step - loss: 0.9064 - accuracy: 0.7302 - val_loss: 2.2862 - val_accuracy: 0.0820 - lr: 1.0000e-04\n",
            "Epoch 3/10\n",
            "129/129 [==============================] - 72s 527ms/step - loss: 0.8146 - accuracy: 0.7628 - val_loss: 2.7713 - val_accuracy: 0.1445 - lr: 1.0000e-04\n",
            "Epoch 4/10\n",
            "129/129 [==============================] - 67s 491ms/step - loss: 0.7344 - accuracy: 0.7876 - val_loss: 2.1489 - val_accuracy: 0.1367 - lr: 1.0000e-04\n",
            "Epoch 5/10\n",
            "129/129 [==============================] - 77s 568ms/step - loss: 0.6822 - accuracy: 0.8120 - val_loss: 2.1737 - val_accuracy: 0.1777 - lr: 1.0000e-04\n",
            "Epoch 6/10\n",
            "129/129 [==============================] - 67s 496ms/step - loss: 0.6380 - accuracy: 0.8164 - val_loss: 2.0458 - val_accuracy: 0.2070 - lr: 1.0000e-04\n",
            "Epoch 7/10\n",
            "129/129 [==============================] - 74s 541ms/step - loss: 0.5942 - accuracy: 0.8271 - val_loss: 1.4459 - val_accuracy: 0.4297 - lr: 1.0000e-04\n",
            "Epoch 8/10\n",
            "129/129 [==============================] - 74s 549ms/step - loss: 0.5774 - accuracy: 0.8281 - val_loss: 0.9024 - val_accuracy: 0.7012 - lr: 1.0000e-04\n",
            "Epoch 9/10\n",
            "129/129 [==============================] - 69s 507ms/step - loss: 0.5322 - accuracy: 0.8383 - val_loss: 0.7828 - val_accuracy: 0.7324 - lr: 1.0000e-04\n",
            "Epoch 10/10\n",
            "129/129 [==============================] - 66s 487ms/step - loss: 0.5150 - accuracy: 0.8402 - val_loss: 0.6269 - val_accuracy: 0.7832 - lr: 1.0000e-04\n"
          ]
        }
      ]
    },
    {
      "cell_type": "code",
      "source": [
        "# Freeze core ResNet layers and train again \n",
        "for layer in model.layers:\n",
        "    layer.trainable = False\n",
        "\n",
        "for layer in model.layers[:50]:\n",
        "    layer.trainable = True\n",
        "\n",
        "optimizer = Adam(lr=0.0001)\n",
        "\n",
        "model.compile(loss='categorical_crossentropy',\n",
        "              optimizer=optimizer, \n",
        "              metrics=['accuracy'])\n",
        "\n",
        "n_epoch = 5\n",
        "history2 = model.fit(train_generator, steps_per_epoch=STEP_SIZE_TRAIN,\n",
        "                              validation_data=valid_generator, validation_steps=STEP_SIZE_VALID,\n",
        "                              epochs=n_epoch,\n",
        "                              shuffle=True,\n",
        "                              verbose=1,\n",
        "                              callbacks=[reduce_lr, early_stop],\n",
        "                              use_multiprocessing=False,\n",
        "                              workers=16,\n",
        "                              class_weight=class_weights\n",
        "                             )"
      ],
      "metadata": {
        "id": "kbVcNqppcsye",
        "colab": {
          "base_uri": "https://localhost:8080/"
        },
        "outputId": "067166f2-8cc2-4995-a4ca-257cc28035e6"
      },
      "execution_count": null,
      "outputs": [
        {
          "output_type": "stream",
          "name": "stdout",
          "text": [
            "Epoch 1/5\n",
            "129/129 [==============================] - 78s 539ms/step - loss: 0.3578 - accuracy: 0.8665 - val_loss: 0.5735 - val_accuracy: 0.7695 - lr: 1.0000e-04\n",
            "Epoch 2/5\n",
            "129/129 [==============================] - 64s 471ms/step - loss: 0.3462 - accuracy: 0.8617 - val_loss: 0.5660 - val_accuracy: 0.7734 - lr: 1.0000e-04\n",
            "Epoch 3/5\n",
            "129/129 [==============================] - 65s 476ms/step - loss: 0.3214 - accuracy: 0.8690 - val_loss: 0.5259 - val_accuracy: 0.7930 - lr: 1.0000e-04\n",
            "Epoch 4/5\n",
            "129/129 [==============================] - 67s 489ms/step - loss: 0.3180 - accuracy: 0.8685 - val_loss: 0.4901 - val_accuracy: 0.8047 - lr: 1.0000e-04\n",
            "Epoch 5/5\n",
            "129/129 [==============================] - 71s 520ms/step - loss: 0.3108 - accuracy: 0.8670 - val_loss: 0.4927 - val_accuracy: 0.8066 - lr: 1.0000e-04\n"
          ]
        }
      ]
    },
    {
      "cell_type": "code",
      "source": [
        "export_dir = '/content/drive/MyDrive/compiled_models/'\n",
        "model.save(export_dir, save_format=\"tf\", include_optimizer=False)"
      ],
      "metadata": {
        "colab": {
          "base_uri": "https://localhost:8080/"
        },
        "id": "aQOLdLdOM4Q1",
        "outputId": "14665d2f-887d-48de-bb3b-f57d9ea7dd58"
      },
      "execution_count": null,
      "outputs": [
        {
          "output_type": "stream",
          "name": "stderr",
          "text": [
            "WARNING:absl:Found untraced functions such as _jit_compiled_convolution_op, _jit_compiled_convolution_op, _jit_compiled_convolution_op, _jit_compiled_convolution_op, _jit_compiled_convolution_op while saving (showing 5 of 53). These functions will not be directly callable after loading.\n"
          ]
        }
      ]
    },
    {
      "cell_type": "code",
      "source": [
        "import tarfile\n",
        "tar = tarfile.open(\"savedmodel.tar.gz\", \"w:gz\")\n",
        "tar.add(\"/content/drive/MyDrive/compiled_models/saved_model.pb\")\n",
        "tar.close()\n"
      ],
      "metadata": {
        "id": "15Gq0yI2VDsJ"
      },
      "execution_count": null,
      "outputs": []
    },
    {
      "cell_type": "code",
      "source": [
        "import tensorflow.neuron as tfn\n",
        "\n",
        "# Compile using Neuron\n",
        "tfn.saved_model.compile(model_dir, compiled_model_dir)\n",
        "\n",
        "# Prepare SavedModel for uploading to Inf1 instance\n",
        "shutil.make_archive(compiled_model_dir, 'zip', WORKSPACE, 'resnet50_neuron')"
      ],
      "metadata": {
        "id": "CrE9IlerSgG7"
      },
      "execution_count": null,
      "outputs": []
    },
    {
      "cell_type": "code",
      "source": [
        "import imageio\n",
        "import cv2\n",
        "\n",
        "url = 'https://www.italian-renaissance-art.com/images/Titian-Sacred-ProfoundLove.jpg'\n",
        "\n",
        "web_image = imageio.imread(url)\n",
        "web_image = cv2.resize(web_image, dsize=train_input_shape[0:2], )\n",
        "web_image = image.img_to_array(web_image)\n",
        "web_image /= 255.\n",
        "web_image = np.expand_dims(web_image, axis=0)\n",
        "\n",
        "\n",
        "prediction = model.predict(web_image)\n",
        "prediction_probability = np.amax(prediction)\n",
        "prediction_idx = np.argmax(prediction)\n",
        "\n",
        "print(\"Predicted artist =\", labels[prediction_idx].replace('_', ' '))\n",
        "print(\"Prediction probability =\", prediction_probability*100, \"%\")\n",
        "\n",
        "plt.imshow(imageio.imread(url))\n",
        "plt.axis('off')\n",
        "plt.show()"
      ],
      "metadata": {
        "id": "JwLwN3tCBtXB"
      },
      "execution_count": null,
      "outputs": []
    },
    {
      "cell_type": "code",
      "source": [
        "# Predict from web - this is an image of Titian.\n",
        "url = 'https://www.italian-renaissance-art.com/images/Titian-Sacred-ProfoundLove.jpg'\n",
        "#url='https://www.italian-renaissance-art.com/images/Titian-Assumption-Frari-Altar.jpg'\n",
        "#url='https://www.pablopicasso.org/images/paintings/self-portrait-1907.jpg'\n",
        "import imageio\n",
        "import cv2\n",
        "from keras_preprocessing.image import load_img, img_to_array\n",
        "\n",
        "\n",
        "\n",
        "labels = train_generator.class_indices\n",
        "labels = dict((v,k) for k,v in labels.items())\n",
        "\n",
        "web_image = imageio.imread(url)\n",
        "web_image = cv2.resize(web_image, dsize=train_input_shape[0:2], )\n",
        "web_image = img_to_array(web_image)\n",
        "web_image /= 255.\n",
        "web_image = np.expand_dims(web_image, axis=0)\n",
        "\n",
        "prediction = model.predict(web_image)\n",
        "prediction_probability = np.amax(prediction)\n",
        "prediction_idx = np.argmax(prediction)\n",
        "print(\"prediction_idx: \",prediction_idx)\n",
        "print(\"labels: \",labels)\n",
        "#print(\"Predicted artist =\", labels[prediction_idx].replace('_', ' '))\n",
        "print(\"Prediction probability =\", prediction_probability*100, \"%\")\n",
        "\n",
        "plt.imshow(imageio.imread(url))\n",
        "plt.axis('off')\n",
        "plt.show()"
      ],
      "metadata": {
        "colab": {
          "base_uri": "https://localhost:8080/",
          "height": 255
        },
        "id": "BXT8pFYSrcKr",
        "outputId": "19325707-332e-47b2-ee8b-7b085f04f697"
      },
      "execution_count": null,
      "outputs": [
        {
          "output_type": "stream",
          "name": "stdout",
          "text": [
            "1/1 [==============================] - 1s 1s/step\n",
            "prediction_idx:  5\n",
            "labels:  {0: 'Edgar_Degas', 1: 'Pablo_Picasso', 2: 'Albrecht_Dürer', 3: 'Francisco_Goya', 4: 'Albrecht_Dürer', 5: 'Titian', 6: 'Marc_Chagall'}\n",
            "Prediction probability = 39.18749988079071 %\n"
          ]
        },
        {
          "output_type": "display_data",
          "data": {
            "text/plain": [
              "<Figure size 432x288 with 1 Axes>"
            ],
            "image/png": "[encoded data removed]"
          },
          "metadata": {
            "needs_background": "light"
          }
        }
      ]
    },
    {
      "cell_type": "markdown",
      "source": [
        ">> Save"
      ],
      "metadata": {
        "id": "J9SjMXpOwM0C"
      }
    },
    {
      "cell_type": "markdown",
      "source": [],
      "metadata": {
        "id": "tBs4YDWY4NQO"
      }
    },
    {
      "cell_type": "code",
      "source": [
        "export_dir = '/content/drive/MyDrive/ArtistPrediction/artist_prediction/'\n",
        "\n",
        "model.save(export_dir, save_format=\"tf\", include_optimizer=False)\n"
      ],
      "metadata": {
        "id": "OHjsuwjp1KJ7"
      },
      "execution_count": null,
      "outputs": []
    },
    {
      "cell_type": "code",
      "source": [
        "import tarfile\n",
        "tar = tarfile.open(\"/content/drive/MyDrive/ArtistPrediction/artist_prediction/artistprediction.tar.gz\", \"w:gz\")\n",
        "tar.add(\"/content/drive/MyDrive/ArtistPrediction/artist_prediction\")\n",
        "tar.close()"
      ],
      "metadata": {
        "id": "-sDrEB9U4Bpl"
      },
      "execution_count": null,
      "outputs": []
    },
    {
      "cell_type": "code",
      "source": [
        "trace = torch.jit.trace(resnet18.float().eval(), torch.zeros(input_shape).float())\n",
        "trace.save(\"model.pth\")\n",
        "\n",
        "with tarfile.open(\"model.tar.gz\", \"w:gz\") as f:\n",
        "    f.add(\"model.pth\")"
      ],
      "metadata": {
        "id": "Y1cwKQw4zr1d"
      },
      "execution_count": null,
      "outputs": []
    },
    {
      "cell_type": "code",
      "source": [
        "m = tf.keras.Sequential([\n",
        "    hub.KerasLayer(\"https://tfhub.dev/google/imagenet/mobilenet_v2_130_224/classification/4\")\n",
        "])\n",
        "m.build([None, 224, 224, 3])  # Batch input shape.\n",
        "m.save(\"artistpredictionv2\") # defaults to save as SavedModel in tensorflow 2"
      ],
      "metadata": {
        "id": "6us0l2xfwMPQ"
      },
      "execution_count": null,
      "outputs": []
    },
    {
      "cell_type": "code",
      "source": [
        "import tarfile\n",
        "tar = tarfile.open(\"artistpredictionv2.tar.gz\", \"w:gz\")\n",
        "tar.add(\"artistpredictionv2\")\n",
        "tar.close()"
      ],
      "metadata": {
        "id": "npI6vom6wa3h"
      },
      "execution_count": null,
      "outputs": []
    },
    {
      "cell_type": "code",
      "source": [
        "import tensorflow_hub as hub\n",
        "m = tf.keras.Sequential([\n",
        "    hub.KerasLayer(\"https://tfhub.dev/google/imagenet/mobilenet_v2_130_224/classification/4\")\n",
        "])\n",
        "m.build([None, 224, 224, 3])  # Batch input shape.\n",
        "m.save(\"/content/drive/MyDrive/ArtistPrediction/artist_prediction\") # defaults to save as SavedModel in tensorflow 2"
      ],
      "metadata": {
        "id": "K2iIFGyEq3k-"
      },
      "execution_count": null,
      "outputs": []
    },
    {
      "cell_type": "code",
      "source": [
        "import os\n",
        "import tensorflow as tf\n",
        "from tensorflow.keras.applications.resnet50 import ResNet50\n",
        "from tensorflow.keras import backend\n",
        "\n",
        "tf.keras.backend.set_learning_phase(0)\n",
        "model = tf.keras.applications.ResNet50(weights='imagenet', include_top=False, input_shape=(224, 224, 3), pooling='avg')\n",
        "model.summary()\n",
        "\n",
        "# Save as a SavedModel\n",
        "export_dir = '/content/drive/MyDrive/ArtistPrediction/artist_prediction/'\n",
        "model.save(export_dir, save_format='tf')\n",
        "\n",
        "# Freeze saved model\n",
        "input_node_names = [inp.name.split(\":\")[0] for inp in model.inputs]\n",
        "output_node_names = [output.name.split(\":\")[0] for output in model.outputs]\n",
        "#print(\"Input names: \", input_node_names)\n"
      ],
      "metadata": {
        "id": "EsnSkztRtRAZ"
      },
      "execution_count": null,
      "outputs": []
    },
    {
      "cell_type": "code",
      "source": [
        "#with tf.Session() as sess:\n",
        "loaded = tf.saved_model.load(export_dir=export_dir, tags=[\"serve\"]) \n",
        "\n",
        "#tf.saved_model.save(pretrained_model, mobilenet_save_path)\n",
        "\n",
        "frozen_graph = tf.core.train_utils.convert_variables_to_constants_v2_as_graph(output_node_names)\n",
        "tf.io.write_graph(graph_or_graph_def=frozen_graph, logdir=\".\", name=\"artist_prediction.pb\", as_text=False)   \n",
        "\n",
        "import tarfile\n",
        "tar = tarfile.open(\"artist_prediction.tar.gz\", \"w:gz\")\n",
        "tar.add(\"/content/drive/MyDrive/ArtistPrediction/artist_prediction/artist_prediction.pb\")\n",
        "tar.close()"
      ],
      "metadata": {
        "id": "45E4XRmEtwL9"
      },
      "execution_count": null,
      "outputs": []
    },
    {
      "cell_type": "code",
      "source": [
        "frozen_graph = tf.graph_util.convert_variables_to_constants_v2_as_graph(output_node_names)\n",
        "tf.io.write_graph(graph_or_graph_def=frozen_graph, logdir=\".\", name=\"artist_prediction.pb\", as_text=False)   \n",
        "\n",
        "import tarfile\n",
        "tar = tarfile.open(\"artist_prediction.tar.gz\", \"w:gz\")\n",
        "tar.add(\"/content/drive/MyDrive/ArtistPrediction/artist_prediction/artist_prediction.pb\")\n",
        "tar.close()"
      ],
      "metadata": {
        "id": "IqUD_C4-uvu6"
      },
      "execution_count": null,
      "outputs": []
    },
    {
      "cell_type": "code",
      "source": [
        "tfm.core.train_utils.convert_variables_to_constants_v2_as_graph(\n",
        "    func, lower_control_flow=True, aggressive_inlining=False\n",
        ")\n"
      ],
      "metadata": {
        "id": "mTK4u8kWuORu"
      },
      "execution_count": null,
      "outputs": []
    },
    {
      "cell_type": "code",
      "source": [
        "# Save the model to local storage\n",
        "model.save(\"drive/MyDrive/ArtistPrediction/\")"
      ],
      "metadata": {
        "id": "m3kLYIurWILc"
      },
      "execution_count": null,
      "outputs": []
    },
    {
      "cell_type": "code",
      "source": [
        "import tarfile\n",
        "tarfile_name='drive/MyDrive/ArtistPrediction/artistprediction.tar.gz'\n",
        "\n",
        "\n",
        "with tarfile.open(tarfile_name, mode='w:gz') as archive:\n",
        "       archive.add('artistprediction.pb') "
      ],
      "metadata": {
        "id": "JMXGUNy69mSW"
      },
      "execution_count": null,
      "outputs": []
    },
    {
      "cell_type": "code",
      "source": [
        "import tarfile\n",
        "tar = tarfile.open(\"savedmodel.tar.gz\", \"w:gz\")\n",
        "tar.add(\"/content/drive/MyDrive/artist_prediction/saved_model.pb\")\n",
        "tar.close()\n"
      ],
      "metadata": {
        "id": "LHsLkYv9ryvZ"
      },
      "execution_count": null,
      "outputs": []
    },
    {
      "cell_type": "code",
      "source": [
        "#model.save(\"artistprediction.h5\")\n",
        "\n",
        "export_dir = 'saved_model/'\n",
        "model.save(export_dir, save_format='tf')\n",
        "\n",
        "\n",
        "# Freeze saved model\n",
        "input_node_names = [inp.name.split(\":\")[0] for inp in model.inputs]\n",
        "output_node_names = [output.name.split(\":\")[0] for output in model.outputs]\n",
        "print(\"Input names: \", input_node_names)\n",
        "print(export_dir)"
      ],
      "metadata": {
        "id": "7cjD_pSuu0CS"
      },
      "execution_count": null,
      "outputs": []
    },
    {
      "cell_type": "code",
      "source": [
        "graph =tf.compat.v1.get_default_graph()"
      ],
      "metadata": {
        "id": "-ssNfXZ3-kN6"
      },
      "execution_count": null,
      "outputs": []
    },
    {
      "cell_type": "code",
      "source": [
        "with tf.compat.v1.Session(graph=graph) as sess:\n",
        "    loaded = tf.compat.v1.saved_model.load(sess, export_dir=export_dir, tags=[\"serve\"]) \n",
        "    frozen_graph = tf.compat.v1.graph_util.convert_variables_to_constants(sess,\n",
        "                                                                sess.graph.as_graph_def(),\n",
        "                                                                output_node_names)\n",
        "    tf.compat.v1.io.write_graph(graph_or_graph_def=frozen_graph, logdir=\".\", name=\"artistprediction.pb\", as_text=False)\n",
        "\n",
        "import tarfile\n",
        "tar = tarfile.open(\"artistprediction.tar.gz\", \"w:gz\")\n",
        "tar.add(\"artistprediction.pb\")\n",
        "tar.close()\n"
      ],
      "metadata": {
        "id": "lKzK1Nkl74gP"
      },
      "execution_count": null,
      "outputs": []
    },
    {
      "cell_type": "code",
      "source": [
        "import tarfile\n",
        "   \n",
        "tarfile_name='/content/drive/MyDrive/artistprediction.tar.gz'\n",
        "   \n",
        "with tarfile.open(tarfile_name, mode='w:gz') as archive:\n",
        "  archive.add('artistprediction.h5')"
      ],
      "metadata": {
        "id": "od7JwlUDvUMf"
      },
      "execution_count": null,
      "outputs": []
    }
  ]
}